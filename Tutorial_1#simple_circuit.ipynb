{
 "cells": [
  {
   "cell_type": "markdown",
   "metadata": {},
   "source": [
    "# Introduction\n",
    "This tutorial illustrates how to (1) construct simple circuit in OpenDSS , (2) visualize and export simulation results. <span style='color:red'> Remember to change the working directory in below before you run the script</span>."
   ]
  },
  {
   "cell_type": "code",
   "execution_count": 1,
   "metadata": {},
   "outputs": [],
   "source": [
    "import os\n",
    "os.chdir('C:\\\\Users\\\\anson\\\\Desktop\\\\OpenDss Tutorial\\\\T1') #remember to change the directory first"
   ]
  },
  {
   "cell_type": "markdown",
   "metadata": {},
   "source": [
    "### (1) Construct a simple circuit in OpenDSS\n",
    "The circuit example is composed of the followings:\n",
    "- 3.3kV ac voltage source\n",
    "- 1km transmission line ($Z_{line}$) with resistance 10 ohm/km, connect the voltage source and the two loads below\n",
    "- Load 1 ($Z_{1}$) with rated power of 30kVA and power factor of 0.5 (leading)\n",
    "- Load 2 ($Z_{2}$) with rated power of 15kW and power factor of 0.707 (lagging) \n",
    "<img src='T1_simple_circuit.png' style='width:500px;height:250px'/> \n",
    "\n",
    "The parameters below for defining loads and power sources are often used and therefore important to be known\n",
    "- basekV: base line-to-line voltage of voltage source\n",
    "- pu: per unit voltage of the voltage source. (assumed balanced for all phases)\n",
    "- kV: nominal voltage for loads\n",
    "- kW/ kVar/ kVa: nominal active/reactive/apparent power of a load\n",
    "- pf: power factor of a load, negative for leading load \n",
    "- phases: No. of phases which the load or power source is operating\n",
    "\n",
    "Generally, baseKV, kV and phases must be specified for all power source and loads.\n",
    "<span style='color:green'> Below is the script of openDSS highlighted in green colour</span>. All the comments are followered by either ' // ' or ' ! ' signs\n",
    "whereas '~' means to follow from the previous line"
   ]
  },
  {
   "cell_type": "markdown",
   "metadata": {},
   "source": [
    "<span style='color:green'>\n",
    "//simple one Voltage source two loads circuit\n",
    "\n",
    "Clear\n",
    "\n",
    "!Define name of new circuit and voltage source \\\n",
    "New circuit.single_phase_double_loads \\\n",
    "~ bus1=SourceBus phases=1 basekV=3.3 pu=1\n",
    "\n",
    "!Line (R=resistance, X=reactance, C=capacitance, 1 and 0 correspond to positve and zero sequence respectively) \\\n",
    "New line.V-Load phases=1 bus1=SourceBus bus2=LoadBus unit=km length=1 R1=10 X1=0 c1=0 \n",
    "\n",
    "!Loads  (negative power factor pf=leading) \\\n",
    "New load.load1 bus1=LoadBus phases=1 kVA=30 pf=-0.5 kV=3.3 \\\n",
    "New load.load2 bus1=LoadBus phases=1 kW=15 pf=0.707 kV=3.3\n",
    "\n",
    "Solve\n",
    "</span>     "
   ]
  },
  {
   "cell_type": "markdown",
   "metadata": {},
   "source": [
    "### (2) Visualise parameters and export simulation results\n",
    "\n"
   ]
  },
  {
   "cell_type": "markdown",
   "metadata": {},
   "source": [
    "In this section, visulaisation of simulation results using OpenDSSDirect module will be gone through. It is useful to see if the simulation parameters are defined as expected. To illustrate this, we will try to modify the loads in the example. Firstly, let's run the dss file. "
   ]
  },
  {
   "cell_type": "code",
   "execution_count": 2,
   "metadata": {},
   "outputs": [
    {
     "data": {
      "text/plain": [
       "''"
      ]
     },
     "execution_count": 2,
     "metadata": {},
     "output_type": "execute_result"
    }
   ],
   "source": [
    "import opendssdirect as dss\n",
    "dss.run_command('Redirect single_phase_double_loads.dss')"
   ]
  },
  {
   "cell_type": "markdown",
   "metadata": {},
   "source": [
    "To visualise the parameters, we can use the openDSSDirect module, opendssdirect.utils.X_to_dataframe, where X can be loads,voltage sources, etc. If we want to look at the unshown column, we can access the columns as the way we manipulate dataframe. The detail description of the parameter can be found using the search bars of the websites below.\n",
    "- https://dss-extensions.org/OpenDSSDirect.py/opendssdirect.html\n",
    "- https://dss-extensions.org/OpenDSSDirect.jl/latest/"
   ]
  },
  {
   "cell_type": "code",
   "execution_count": 3,
   "metadata": {},
   "outputs": [
    {
     "data": {
      "text/html": [
       "<div>\n",
       "<style scoped>\n",
       "    .dataframe tbody tr th:only-of-type {\n",
       "        vertical-align: middle;\n",
       "    }\n",
       "\n",
       "    .dataframe tbody tr th {\n",
       "        vertical-align: top;\n",
       "    }\n",
       "\n",
       "    .dataframe thead th {\n",
       "        text-align: right;\n",
       "    }\n",
       "</style>\n",
       "<table border=\"1\" class=\"dataframe\">\n",
       "  <thead>\n",
       "    <tr style=\"text-align: right;\">\n",
       "      <th></th>\n",
       "      <th>CVRCurve</th>\n",
       "      <th>CVRvars</th>\n",
       "      <th>CVRwatts</th>\n",
       "      <th>CFactor</th>\n",
       "      <th>Class</th>\n",
       "      <th>Growth</th>\n",
       "      <th>IsDelta</th>\n",
       "      <th>Model</th>\n",
       "      <th>Name</th>\n",
       "      <th>NumCust</th>\n",
       "      <th>...</th>\n",
       "      <th>kV</th>\n",
       "      <th>kW</th>\n",
       "      <th>kVABase</th>\n",
       "      <th>kvar</th>\n",
       "      <th>kWh</th>\n",
       "      <th>kWhDays</th>\n",
       "      <th>puSeriesRL</th>\n",
       "      <th>XfkVA</th>\n",
       "      <th>Phases</th>\n",
       "      <th>AllocationFactor</th>\n",
       "    </tr>\n",
       "  </thead>\n",
       "  <tbody>\n",
       "    <tr>\n",
       "      <th>load1</th>\n",
       "      <td></td>\n",
       "      <td>2</td>\n",
       "      <td>1</td>\n",
       "      <td>4</td>\n",
       "      <td>1</td>\n",
       "      <td></td>\n",
       "      <td>False</td>\n",
       "      <td>1</td>\n",
       "      <td>load1</td>\n",
       "      <td>1</td>\n",
       "      <td>...</td>\n",
       "      <td>3.3</td>\n",
       "      <td>15</td>\n",
       "      <td>30</td>\n",
       "      <td>-25.9808</td>\n",
       "      <td>0</td>\n",
       "      <td>30</td>\n",
       "      <td>50</td>\n",
       "      <td>0</td>\n",
       "      <td>1</td>\n",
       "      <td>0.5</td>\n",
       "    </tr>\n",
       "    <tr>\n",
       "      <th>load2</th>\n",
       "      <td></td>\n",
       "      <td>2</td>\n",
       "      <td>1</td>\n",
       "      <td>4</td>\n",
       "      <td>1</td>\n",
       "      <td></td>\n",
       "      <td>False</td>\n",
       "      <td>1</td>\n",
       "      <td>load2</td>\n",
       "      <td>1</td>\n",
       "      <td>...</td>\n",
       "      <td>3.3</td>\n",
       "      <td>15</td>\n",
       "      <td>21.2164</td>\n",
       "      <td>15.0045</td>\n",
       "      <td>0</td>\n",
       "      <td>30</td>\n",
       "      <td>50</td>\n",
       "      <td>0</td>\n",
       "      <td>1</td>\n",
       "      <td>0.5</td>\n",
       "    </tr>\n",
       "  </tbody>\n",
       "</table>\n",
       "<p>2 rows × 37 columns</p>\n",
       "</div>"
      ],
      "text/plain": [
       "      CVRCurve CVRvars CVRwatts CFactor Class Growth IsDelta Model   Name  \\\n",
       "load1                2        1       4     1          False     1  load1   \n",
       "load2                2        1       4     1          False     1  load2   \n",
       "\n",
       "      NumCust  ...   kV  kW  kVABase     kvar kWh kWhDays puSeriesRL XfkVA  \\\n",
       "load1       1  ...  3.3  15       30 -25.9808   0      30         50     0   \n",
       "load2       1  ...  3.3  15  21.2164  15.0045   0      30         50     0   \n",
       "\n",
       "      Phases AllocationFactor  \n",
       "load1      1              0.5  \n",
       "load2      1              0.5  \n",
       "\n",
       "[2 rows x 37 columns]"
      ]
     },
     "execution_count": 3,
     "metadata": {},
     "output_type": "execute_result"
    }
   ],
   "source": [
    "dss.utils.loads_to_dataframe()"
   ]
  },
  {
   "cell_type": "markdown",
   "metadata": {},
   "source": [
    "### Add loads\n",
    "Now, we will try to add a load connected to the load bus. We can check so by using the opendssdirect module. "
   ]
  },
  {
   "cell_type": "code",
   "execution_count": 4,
   "metadata": {},
   "outputs": [
    {
     "data": {
      "text/html": [
       "<div>\n",
       "<style scoped>\n",
       "    .dataframe tbody tr th:only-of-type {\n",
       "        vertical-align: middle;\n",
       "    }\n",
       "\n",
       "    .dataframe tbody tr th {\n",
       "        vertical-align: top;\n",
       "    }\n",
       "\n",
       "    .dataframe thead th {\n",
       "        text-align: right;\n",
       "    }\n",
       "</style>\n",
       "<table border=\"1\" class=\"dataframe\">\n",
       "  <thead>\n",
       "    <tr style=\"text-align: right;\">\n",
       "      <th></th>\n",
       "      <th>CVRCurve</th>\n",
       "      <th>CVRvars</th>\n",
       "      <th>CVRwatts</th>\n",
       "      <th>CFactor</th>\n",
       "      <th>Class</th>\n",
       "      <th>Growth</th>\n",
       "      <th>IsDelta</th>\n",
       "      <th>Model</th>\n",
       "      <th>Name</th>\n",
       "      <th>NumCust</th>\n",
       "      <th>...</th>\n",
       "      <th>kV</th>\n",
       "      <th>kW</th>\n",
       "      <th>kVABase</th>\n",
       "      <th>kvar</th>\n",
       "      <th>kWh</th>\n",
       "      <th>kWhDays</th>\n",
       "      <th>puSeriesRL</th>\n",
       "      <th>XfkVA</th>\n",
       "      <th>Phases</th>\n",
       "      <th>AllocationFactor</th>\n",
       "    </tr>\n",
       "  </thead>\n",
       "  <tbody>\n",
       "    <tr>\n",
       "      <th>load1</th>\n",
       "      <td></td>\n",
       "      <td>2</td>\n",
       "      <td>1</td>\n",
       "      <td>4</td>\n",
       "      <td>1</td>\n",
       "      <td></td>\n",
       "      <td>False</td>\n",
       "      <td>1</td>\n",
       "      <td>load1</td>\n",
       "      <td>1</td>\n",
       "      <td>...</td>\n",
       "      <td>3.3</td>\n",
       "      <td>15</td>\n",
       "      <td>30</td>\n",
       "      <td>-25.9808</td>\n",
       "      <td>0</td>\n",
       "      <td>30</td>\n",
       "      <td>50</td>\n",
       "      <td>0</td>\n",
       "      <td>1</td>\n",
       "      <td>0.5</td>\n",
       "    </tr>\n",
       "    <tr>\n",
       "      <th>load2</th>\n",
       "      <td></td>\n",
       "      <td>2</td>\n",
       "      <td>1</td>\n",
       "      <td>4</td>\n",
       "      <td>1</td>\n",
       "      <td></td>\n",
       "      <td>False</td>\n",
       "      <td>1</td>\n",
       "      <td>load2</td>\n",
       "      <td>1</td>\n",
       "      <td>...</td>\n",
       "      <td>3.3</td>\n",
       "      <td>15</td>\n",
       "      <td>21.2164</td>\n",
       "      <td>15.0045</td>\n",
       "      <td>0</td>\n",
       "      <td>30</td>\n",
       "      <td>50</td>\n",
       "      <td>0</td>\n",
       "      <td>1</td>\n",
       "      <td>0.5</td>\n",
       "    </tr>\n",
       "    <tr>\n",
       "      <th>load3</th>\n",
       "      <td></td>\n",
       "      <td>2</td>\n",
       "      <td>1</td>\n",
       "      <td>4</td>\n",
       "      <td>1</td>\n",
       "      <td></td>\n",
       "      <td>False</td>\n",
       "      <td>1</td>\n",
       "      <td>load3</td>\n",
       "      <td>1</td>\n",
       "      <td>...</td>\n",
       "      <td>3.3</td>\n",
       "      <td>30</td>\n",
       "      <td>60</td>\n",
       "      <td>-51.9615</td>\n",
       "      <td>0</td>\n",
       "      <td>30</td>\n",
       "      <td>50</td>\n",
       "      <td>0</td>\n",
       "      <td>1</td>\n",
       "      <td>0.5</td>\n",
       "    </tr>\n",
       "  </tbody>\n",
       "</table>\n",
       "<p>3 rows × 37 columns</p>\n",
       "</div>"
      ],
      "text/plain": [
       "      CVRCurve CVRvars CVRwatts CFactor Class Growth IsDelta Model   Name  \\\n",
       "load1                2        1       4     1          False     1  load1   \n",
       "load2                2        1       4     1          False     1  load2   \n",
       "load3                2        1       4     1          False     1  load3   \n",
       "\n",
       "      NumCust  ...   kV  kW  kVABase     kvar kWh kWhDays puSeriesRL XfkVA  \\\n",
       "load1       1  ...  3.3  15       30 -25.9808   0      30         50     0   \n",
       "load2       1  ...  3.3  15  21.2164  15.0045   0      30         50     0   \n",
       "load3       1  ...  3.3  30       60 -51.9615   0      30         50     0   \n",
       "\n",
       "      Phases AllocationFactor  \n",
       "load1      1              0.5  \n",
       "load2      1              0.5  \n",
       "load3      1              0.5  \n",
       "\n",
       "[3 rows x 37 columns]"
      ]
     },
     "execution_count": 4,
     "metadata": {},
     "output_type": "execute_result"
    }
   ],
   "source": [
    "dss.run_command('New load.load3 bus1=LoadBus phases=1 kVA=60 pf=-0.5 kV=3.3') #add loads\n",
    "dss.utils.loads_to_dataframe() #visualise the parameters"
   ]
  },
  {
   "cell_type": "markdown",
   "metadata": {},
   "source": [
    "### Remove (disable) loads\n",
    "Similarly, we can deactivate the loads and verify so. The dataframe below shows that all the loads are exactly the same as before."
   ]
  },
  {
   "cell_type": "code",
   "execution_count": 5,
   "metadata": {},
   "outputs": [
    {
     "data": {
      "text/html": [
       "<div>\n",
       "<style scoped>\n",
       "    .dataframe tbody tr th:only-of-type {\n",
       "        vertical-align: middle;\n",
       "    }\n",
       "\n",
       "    .dataframe tbody tr th {\n",
       "        vertical-align: top;\n",
       "    }\n",
       "\n",
       "    .dataframe thead th {\n",
       "        text-align: right;\n",
       "    }\n",
       "</style>\n",
       "<table border=\"1\" class=\"dataframe\">\n",
       "  <thead>\n",
       "    <tr style=\"text-align: right;\">\n",
       "      <th></th>\n",
       "      <th>CVRCurve</th>\n",
       "      <th>CVRvars</th>\n",
       "      <th>CVRwatts</th>\n",
       "      <th>CFactor</th>\n",
       "      <th>Class</th>\n",
       "      <th>Growth</th>\n",
       "      <th>IsDelta</th>\n",
       "      <th>Model</th>\n",
       "      <th>Name</th>\n",
       "      <th>NumCust</th>\n",
       "      <th>...</th>\n",
       "      <th>kV</th>\n",
       "      <th>kW</th>\n",
       "      <th>kVABase</th>\n",
       "      <th>kvar</th>\n",
       "      <th>kWh</th>\n",
       "      <th>kWhDays</th>\n",
       "      <th>puSeriesRL</th>\n",
       "      <th>XfkVA</th>\n",
       "      <th>Phases</th>\n",
       "      <th>AllocationFactor</th>\n",
       "    </tr>\n",
       "  </thead>\n",
       "  <tbody>\n",
       "    <tr>\n",
       "      <th>load1</th>\n",
       "      <td></td>\n",
       "      <td>2</td>\n",
       "      <td>1</td>\n",
       "      <td>4</td>\n",
       "      <td>1</td>\n",
       "      <td></td>\n",
       "      <td>False</td>\n",
       "      <td>1</td>\n",
       "      <td>load1</td>\n",
       "      <td>1</td>\n",
       "      <td>...</td>\n",
       "      <td>3.3</td>\n",
       "      <td>15</td>\n",
       "      <td>30</td>\n",
       "      <td>-25.9808</td>\n",
       "      <td>0</td>\n",
       "      <td>30</td>\n",
       "      <td>50</td>\n",
       "      <td>0</td>\n",
       "      <td>1</td>\n",
       "      <td>0.5</td>\n",
       "    </tr>\n",
       "    <tr>\n",
       "      <th>load2</th>\n",
       "      <td></td>\n",
       "      <td>2</td>\n",
       "      <td>1</td>\n",
       "      <td>4</td>\n",
       "      <td>1</td>\n",
       "      <td></td>\n",
       "      <td>False</td>\n",
       "      <td>1</td>\n",
       "      <td>load2</td>\n",
       "      <td>1</td>\n",
       "      <td>...</td>\n",
       "      <td>3.3</td>\n",
       "      <td>15</td>\n",
       "      <td>21.2164</td>\n",
       "      <td>15.0045</td>\n",
       "      <td>0</td>\n",
       "      <td>30</td>\n",
       "      <td>50</td>\n",
       "      <td>0</td>\n",
       "      <td>1</td>\n",
       "      <td>0.5</td>\n",
       "    </tr>\n",
       "  </tbody>\n",
       "</table>\n",
       "<p>2 rows × 37 columns</p>\n",
       "</div>"
      ],
      "text/plain": [
       "      CVRCurve CVRvars CVRwatts CFactor Class Growth IsDelta Model   Name  \\\n",
       "load1                2        1       4     1          False     1  load1   \n",
       "load2                2        1       4     1          False     1  load2   \n",
       "\n",
       "      NumCust  ...   kV  kW  kVABase     kvar kWh kWhDays puSeriesRL XfkVA  \\\n",
       "load1       1  ...  3.3  15       30 -25.9808   0      30         50     0   \n",
       "load2       1  ...  3.3  15  21.2164  15.0045   0      30         50     0   \n",
       "\n",
       "      Phases AllocationFactor  \n",
       "load1      1              0.5  \n",
       "load2      1              0.5  \n",
       "\n",
       "[2 rows x 37 columns]"
      ]
     },
     "execution_count": 5,
     "metadata": {},
     "output_type": "execute_result"
    }
   ],
   "source": [
    "dss.run_command('disable load.load3 ') \n",
    "dss.utils.loads_to_dataframe() "
   ]
  },
  {
   "cell_type": "markdown",
   "metadata": {},
   "source": [
    "### Modifying loads\n",
    "Lastly, we will demonstrate how to modify certain parameters of a load. It is particularly useful if we want to study the effect of changing certain parameters of a network."
   ]
  },
  {
   "cell_type": "code",
   "execution_count": 6,
   "metadata": {},
   "outputs": [
    {
     "data": {
      "text/html": [
       "<div>\n",
       "<style scoped>\n",
       "    .dataframe tbody tr th:only-of-type {\n",
       "        vertical-align: middle;\n",
       "    }\n",
       "\n",
       "    .dataframe tbody tr th {\n",
       "        vertical-align: top;\n",
       "    }\n",
       "\n",
       "    .dataframe thead th {\n",
       "        text-align: right;\n",
       "    }\n",
       "</style>\n",
       "<table border=\"1\" class=\"dataframe\">\n",
       "  <thead>\n",
       "    <tr style=\"text-align: right;\">\n",
       "      <th></th>\n",
       "      <th>CVRCurve</th>\n",
       "      <th>CVRvars</th>\n",
       "      <th>CVRwatts</th>\n",
       "      <th>CFactor</th>\n",
       "      <th>Class</th>\n",
       "      <th>Growth</th>\n",
       "      <th>IsDelta</th>\n",
       "      <th>Model</th>\n",
       "      <th>Name</th>\n",
       "      <th>NumCust</th>\n",
       "      <th>...</th>\n",
       "      <th>kV</th>\n",
       "      <th>kW</th>\n",
       "      <th>kVABase</th>\n",
       "      <th>kvar</th>\n",
       "      <th>kWh</th>\n",
       "      <th>kWhDays</th>\n",
       "      <th>puSeriesRL</th>\n",
       "      <th>XfkVA</th>\n",
       "      <th>Phases</th>\n",
       "      <th>AllocationFactor</th>\n",
       "    </tr>\n",
       "  </thead>\n",
       "  <tbody>\n",
       "    <tr>\n",
       "      <th>load1</th>\n",
       "      <td></td>\n",
       "      <td>2</td>\n",
       "      <td>1</td>\n",
       "      <td>4</td>\n",
       "      <td>1</td>\n",
       "      <td></td>\n",
       "      <td>False</td>\n",
       "      <td>1</td>\n",
       "      <td>load1</td>\n",
       "      <td>1</td>\n",
       "      <td>...</td>\n",
       "      <td>3.3</td>\n",
       "      <td>10</td>\n",
       "      <td>20</td>\n",
       "      <td>-17.3205</td>\n",
       "      <td>0</td>\n",
       "      <td>30</td>\n",
       "      <td>50</td>\n",
       "      <td>0</td>\n",
       "      <td>1</td>\n",
       "      <td>0.5</td>\n",
       "    </tr>\n",
       "    <tr>\n",
       "      <th>load2</th>\n",
       "      <td></td>\n",
       "      <td>2</td>\n",
       "      <td>1</td>\n",
       "      <td>4</td>\n",
       "      <td>1</td>\n",
       "      <td></td>\n",
       "      <td>False</td>\n",
       "      <td>1</td>\n",
       "      <td>load2</td>\n",
       "      <td>1</td>\n",
       "      <td>...</td>\n",
       "      <td>3.3</td>\n",
       "      <td>15</td>\n",
       "      <td>21.2164</td>\n",
       "      <td>15.0045</td>\n",
       "      <td>0</td>\n",
       "      <td>30</td>\n",
       "      <td>50</td>\n",
       "      <td>0</td>\n",
       "      <td>1</td>\n",
       "      <td>0.5</td>\n",
       "    </tr>\n",
       "  </tbody>\n",
       "</table>\n",
       "<p>2 rows × 37 columns</p>\n",
       "</div>"
      ],
      "text/plain": [
       "      CVRCurve CVRvars CVRwatts CFactor Class Growth IsDelta Model   Name  \\\n",
       "load1                2        1       4     1          False     1  load1   \n",
       "load2                2        1       4     1          False     1  load2   \n",
       "\n",
       "      NumCust  ...   kV  kW  kVABase     kvar kWh kWhDays puSeriesRL XfkVA  \\\n",
       "load1       1  ...  3.3  10       20 -17.3205   0      30         50     0   \n",
       "load2       1  ...  3.3  15  21.2164  15.0045   0      30         50     0   \n",
       "\n",
       "      Phases AllocationFactor  \n",
       "load1      1              0.5  \n",
       "load2      1              0.5  \n",
       "\n",
       "[2 rows x 37 columns]"
      ]
     },
     "execution_count": 6,
     "metadata": {},
     "output_type": "execute_result"
    }
   ],
   "source": [
    "dss.run_command('load.load1.kW=10') #decrease the rated power of load1 from 15kW to 10kW\n",
    "dss.utils.loads_to_dataframe()"
   ]
  },
  {
   "cell_type": "markdown",
   "metadata": {},
   "source": [
    "### Export results"
   ]
  },
  {
   "cell_type": "markdown",
   "metadata": {},
   "source": [
    "The Simulation results can be obtained using the export and show command as shown Below. 'Export' function will output a csv file whereas 'Show' function will output a text file. Note that you have to add the command <span style='color:red'> dss.run_command('Solve') </span> if you want to get the simulation result with modified parameters on loads. \n",
    "\n",
    "Lastly, Jupyter will cease if the text editor(notepad) pop up. Therfore, <span style='color:red'>dss.Basic.AllowEditor(False)</span> command is needed to prohibit the opening of notepad. However, you can open the txt. file manually to look at the summmary of simulation result."
   ]
  },
  {
   "cell_type": "code",
   "execution_count": 7,
   "metadata": {},
   "outputs": [
    {
     "data": {
      "text/plain": [
       "'C:\\\\Users\\\\anson\\\\Desktop\\\\OpenDss Tutorial\\\\T1\\\\single_phase_double_loads_EXP_CURRENTS.CSV'"
      ]
     },
     "execution_count": 7,
     "metadata": {},
     "output_type": "execute_result"
    }
   ],
   "source": [
    "dss.run_command('Export Powers')\n",
    "dss.run_command('Export Currents')"
   ]
  },
  {
   "cell_type": "code",
   "execution_count": 8,
   "metadata": {},
   "outputs": [
    {
     "data": {
      "text/plain": [
       "''"
      ]
     },
     "execution_count": 8,
     "metadata": {},
     "output_type": "execute_result"
    }
   ],
   "source": [
    "dss.Basic.AllowEditor(False) #prohibit the opening of notepad by OpenDss\n",
    "dss.run_command('Show Powers kVA Elem')\n",
    "dss.run_command('Show Currents Elem')"
   ]
  }
 ],
 "metadata": {
  "kernelspec": {
   "display_name": "Python 3",
   "language": "python",
   "name": "python3"
  },
  "language_info": {
   "codemirror_mode": {
    "name": "ipython",
    "version": 3
   },
   "file_extension": ".py",
   "mimetype": "text/x-python",
   "name": "python",
   "nbconvert_exporter": "python",
   "pygments_lexer": "ipython3",
   "version": "3.8.5"
  }
 },
 "nbformat": 4,
 "nbformat_minor": 4
}
